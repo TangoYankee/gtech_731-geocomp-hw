{
 "cells": [
  {
   "attachments": {},
   "cell_type": "markdown",
   "metadata": {},
   "source": [
    "## Timothy Miller\n",
    "## GTECH 73100, Dr. Sun"
   ]
  },
  {
   "attachments": {},
   "cell_type": "markdown",
   "metadata": {},
   "source": [
    "# [Assignment Eight](https://github.com/TangoYankee/gtech_731-geocomp-hw/tree/main/assignment-eight)\n",
    "States and counties in geopandas"
   ]
  },
  {
   "attachments": {},
   "cell_type": "markdown",
   "metadata": {},
   "source": [
    "### Import modules"
   ]
  },
  {
   "cell_type": "code",
   "execution_count": 24,
   "metadata": {},
   "outputs": [],
   "source": [
    "import pandas as pd\n",
    "import geopandas as gpd\n",
    "import json\n",
    "import io"
   ]
  },
  {
   "attachments": {},
   "cell_type": "markdown",
   "metadata": {},
   "source": [
    "### Translate encoding of json file\n",
    "The original \"data/gz_2010_us_050_00_20m.json\" file appears to be encoded in 'latin-1', causing errors when attempting read it directly into geopandas\n",
    "This is resolved by first reading in the file as json and then reexporting as json, changing the name to geojson"
   ]
  },
  {
   "cell_type": "code",
   "execution_count": 11,
   "metadata": {},
   "outputs": [],
   "source": [
    "with io.open(\"data/gz_2010_us_050_00_20m.json\", encoding='latin-1') as f:\n",
    "    data = json.load(f)\n",
    "\n",
    "with open('data/gz_2010_us_050_00_20m.geojson', 'w') as fp:\n",
    "    json.dump(data, fp)"
   ]
  },
  {
   "attachments": {},
   "cell_type": "markdown",
   "metadata": {},
   "source": [
    "### Read files "
   ]
  },
  {
   "cell_type": "code",
   "execution_count": 111,
   "metadata": {},
   "outputs": [],
   "source": [
    "county_data = gpd.read_file(\"data/gz_2010_us_050_00_20m.geojson\")\n",
    "\n",
    "with io.open(\"data/fipsToState.json\") as f:\n",
    "    fips_to_state = json.load(f)\n",
    "\n",
    "with io.open(\"data/stateCodeToFips.json\") as f:\n",
    "    state_code_to_fips = json.load(f)"
   ]
  },
  {
   "cell_type": "code",
   "execution_count": 112,
   "metadata": {},
   "outputs": [],
   "source": [
    "fips_to_state_df = pd.DataFrame({ \n",
    "    \"fips\": fips_to_state.keys(),\n",
    "    \"state\": fips_to_state.values(),\n",
    " })\n",
    "\n",
    "state_code_to_fips_df = pd.DataFrame({\n",
    "    \"state_code\": state_code_to_fips.keys(),\n",
    "    \"fips\": state_code_to_fips.values()\n",
    "})"
   ]
  },
  {
   "attachments": {},
   "cell_type": "markdown",
   "metadata": {},
   "source": [
    "### Task 1\n",
    "Find the top n most common county names"
   ]
  }
 ],
 "metadata": {
  "kernelspec": {
   "display_name": "venv",
   "language": "python",
   "name": "python3"
  },
  "language_info": {
   "codemirror_mode": {
    "name": "ipython",
    "version": 3
   },
   "file_extension": ".py",
   "mimetype": "text/x-python",
   "name": "python",
   "nbconvert_exporter": "python",
   "pygments_lexer": "ipython3",
   "version": "3.11.2"
  },
  "orig_nbformat": 4
 },
 "nbformat": 4,
 "nbformat_minor": 2
}
