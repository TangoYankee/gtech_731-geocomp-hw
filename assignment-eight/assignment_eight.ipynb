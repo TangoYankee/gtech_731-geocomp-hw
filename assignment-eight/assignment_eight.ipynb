{
 "cells": [
  {
   "attachments": {},
   "cell_type": "markdown",
   "metadata": {},
   "source": [
    "## Timothy Miller\n",
    "## GTECH 73100, Dr. Sun"
   ]
  },
  {
   "attachments": {},
   "cell_type": "markdown",
   "metadata": {},
   "source": [
    "# [Assignment Eight](https://github.com/TangoYankee/gtech_731-geocomp-hw/tree/main/assignment-eight)\n",
    "States and counties in geopandas"
   ]
  },
  {
   "attachments": {},
   "cell_type": "markdown",
   "metadata": {},
   "source": [
    "### Import modules"
   ]
  },
  {
   "cell_type": "code",
   "execution_count": 2,
   "metadata": {},
   "outputs": [],
   "source": [
    "import geopandas as gpd\n",
    "import json\n",
    "import io"
   ]
  },
  {
   "attachments": {},
   "cell_type": "markdown",
   "metadata": {},
   "source": [
    "### Translate encoding of json file\n",
    "The original \"data/gz_2010_us_050_00_20m.json\" file appears to be encoded in 'latin-1', causing errors when attempting read it directly into geopandas\n",
    "This is resolved by first reading in the file as json and then reexporting as json, changing the name to geojson"
   ]
  },
  {
   "cell_type": "code",
   "execution_count": 11,
   "metadata": {},
   "outputs": [],
   "source": [
    "with io.open(\"data/gz_2010_us_050_00_20m.json\", encoding='latin-1') as f:\n",
    "    data = json.load(f)\n",
    "\n",
    "with open('data/gz_2010_us_050_00_20m.geojson', 'w') as fp:\n",
    "    json.dump(data, fp)"
   ]
  },
  {
   "attachments": {},
   "cell_type": "markdown",
   "metadata": {},
   "source": [
    "### Read translated file"
   ]
  },
  {
   "cell_type": "code",
   "execution_count": 13,
   "metadata": {},
   "outputs": [],
   "source": [
    "county_data = gpd.read_file(\"data/gz_2010_us_050_00_20m.geojson\")"
   ]
  },
  {
   "cell_type": "code",
   "execution_count": 15,
   "metadata": {},
   "outputs": [
    {
     "data": {
      "text/html": [
       "<div>\n",
       "<style scoped>\n",
       "    .dataframe tbody tr th:only-of-type {\n",
       "        vertical-align: middle;\n",
       "    }\n",
       "\n",
       "    .dataframe tbody tr th {\n",
       "        vertical-align: top;\n",
       "    }\n",
       "\n",
       "    .dataframe thead th {\n",
       "        text-align: right;\n",
       "    }\n",
       "</style>\n",
       "<table border=\"1\" class=\"dataframe\">\n",
       "  <thead>\n",
       "    <tr style=\"text-align: right;\">\n",
       "      <th></th>\n",
       "      <th>GEO_ID</th>\n",
       "      <th>STATE</th>\n",
       "      <th>COUNTY</th>\n",
       "      <th>NAME</th>\n",
       "      <th>LSAD</th>\n",
       "      <th>CENSUSAREA</th>\n",
       "      <th>geometry</th>\n",
       "    </tr>\n",
       "  </thead>\n",
       "  <tbody>\n",
       "    <tr>\n",
       "      <th>0</th>\n",
       "      <td>0500000US01001</td>\n",
       "      <td>01</td>\n",
       "      <td>001</td>\n",
       "      <td>Autauga</td>\n",
       "      <td>County</td>\n",
       "      <td>594.436</td>\n",
       "      <td>POLYGON ((-86.49677 32.34444, -86.71790 32.402...</td>\n",
       "    </tr>\n",
       "    <tr>\n",
       "      <th>1</th>\n",
       "      <td>0500000US01009</td>\n",
       "      <td>01</td>\n",
       "      <td>009</td>\n",
       "      <td>Blount</td>\n",
       "      <td>County</td>\n",
       "      <td>644.776</td>\n",
       "      <td>POLYGON ((-86.57780 33.76532, -86.75914 33.840...</td>\n",
       "    </tr>\n",
       "    <tr>\n",
       "      <th>2</th>\n",
       "      <td>0500000US01017</td>\n",
       "      <td>01</td>\n",
       "      <td>017</td>\n",
       "      <td>Chambers</td>\n",
       "      <td>County</td>\n",
       "      <td>596.531</td>\n",
       "      <td>POLYGON ((-85.18413 32.87053, -85.12342 32.772...</td>\n",
       "    </tr>\n",
       "    <tr>\n",
       "      <th>3</th>\n",
       "      <td>0500000US01021</td>\n",
       "      <td>01</td>\n",
       "      <td>021</td>\n",
       "      <td>Chilton</td>\n",
       "      <td>County</td>\n",
       "      <td>692.854</td>\n",
       "      <td>POLYGON ((-86.51734 33.02057, -86.51596 32.929...</td>\n",
       "    </tr>\n",
       "    <tr>\n",
       "      <th>4</th>\n",
       "      <td>0500000US01033</td>\n",
       "      <td>01</td>\n",
       "      <td>033</td>\n",
       "      <td>Colbert</td>\n",
       "      <td>County</td>\n",
       "      <td>592.619</td>\n",
       "      <td>POLYGON ((-88.13999 34.58170, -88.13925 34.587...</td>\n",
       "    </tr>\n",
       "  </tbody>\n",
       "</table>\n",
       "</div>"
      ],
      "text/plain": [
       "           GEO_ID STATE COUNTY      NAME    LSAD  CENSUSAREA  \\\n",
       "0  0500000US01001    01    001   Autauga  County     594.436   \n",
       "1  0500000US01009    01    009    Blount  County     644.776   \n",
       "2  0500000US01017    01    017  Chambers  County     596.531   \n",
       "3  0500000US01021    01    021   Chilton  County     692.854   \n",
       "4  0500000US01033    01    033   Colbert  County     592.619   \n",
       "\n",
       "                                            geometry  \n",
       "0  POLYGON ((-86.49677 32.34444, -86.71790 32.402...  \n",
       "1  POLYGON ((-86.57780 33.76532, -86.75914 33.840...  \n",
       "2  POLYGON ((-85.18413 32.87053, -85.12342 32.772...  \n",
       "3  POLYGON ((-86.51734 33.02057, -86.51596 32.929...  \n",
       "4  POLYGON ((-88.13999 34.58170, -88.13925 34.587...  "
      ]
     },
     "execution_count": 15,
     "metadata": {},
     "output_type": "execute_result"
    }
   ],
   "source": [
    "county_data.head()"
   ]
  },
  {
   "cell_type": "markdown",
   "metadata": {},
   "source": [
    "###"
   ]
  },
  {
   "attachments": {},
   "cell_type": "markdown",
   "metadata": {},
   "source": [
    "### Task 1\n",
    "Find the top n most common county names"
   ]
  }
 ],
 "metadata": {
  "kernelspec": {
   "display_name": "venv",
   "language": "python",
   "name": "python3"
  },
  "language_info": {
   "codemirror_mode": {
    "name": "ipython",
    "version": 3
   },
   "file_extension": ".py",
   "mimetype": "text/x-python",
   "name": "python",
   "nbconvert_exporter": "python",
   "pygments_lexer": "ipython3",
   "version": "3.11.2"
  },
  "orig_nbformat": 4
 },
 "nbformat": 4,
 "nbformat_minor": 2
}
