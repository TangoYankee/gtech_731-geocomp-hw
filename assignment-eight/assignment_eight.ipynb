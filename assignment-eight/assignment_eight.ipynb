{
 "cells": [
  {
   "attachments": {},
   "cell_type": "markdown",
   "metadata": {},
   "source": [
    "## Timothy Miller\n",
    "## GTECH 73100, Dr. Sun"
   ]
  },
  {
   "attachments": {},
   "cell_type": "markdown",
   "metadata": {},
   "source": [
    "# [Assignment Eight](https://github.com/TangoYankee/gtech_731-geocomp-hw/tree/main/assignment-eight)\n",
    "States and counties in geopandas"
   ]
  },
  {
   "attachments": {},
   "cell_type": "markdown",
   "metadata": {},
   "source": [
    "### Import modules"
   ]
  },
  {
   "cell_type": "code",
   "execution_count": 24,
   "metadata": {},
   "outputs": [],
   "source": [
    "import pandas as pd\n",
    "import geopandas as gpd\n",
    "import json\n",
    "import io"
   ]
  },
  {
   "attachments": {},
   "cell_type": "markdown",
   "metadata": {},
   "source": [
    "### Translate encoding of json file\n",
    "The original \"data/gz_2010_us_050_00_20m.json\" file appears to be encoded in 'latin-1', causing errors when attempting read it directly into geopandas\n",
    "This is resolved by first reading in the file as json and then reexporting as json, changing the name to geojson"
   ]
  },
  {
   "cell_type": "code",
   "execution_count": 11,
   "metadata": {},
   "outputs": [],
   "source": [
    "with io.open(\"data/gz_2010_us_050_00_20m.json\", encoding='latin-1') as f:\n",
    "    data = json.load(f)\n",
    "\n",
    "with open('data/gz_2010_us_050_00_20m.geojson', 'w') as fp:\n",
    "    json.dump(data, fp)"
   ]
  },
  {
   "attachments": {},
   "cell_type": "markdown",
   "metadata": {},
   "source": [
    "### Read files "
   ]
  },
  {
   "cell_type": "code",
   "execution_count": 111,
   "metadata": {},
   "outputs": [],
   "source": [
    "county_data = gpd.read_file(\"data/gz_2010_us_050_00_20m.geojson\")\n",
    "\n",
    "with io.open(\"data/fipsToState.json\") as f:\n",
    "    fips_to_state = json.load(f)\n",
    "\n",
    "with io.open(\"data/stateCodeToFips.json\") as f:\n",
    "    state_code_to_fips = json.load(f)"
   ]
  },
  {
   "cell_type": "code",
   "execution_count": 162,
   "metadata": {},
   "outputs": [],
   "source": [
    "fips_to_state_df = pd.DataFrame({ \n",
    "    \"STATE\": fips_to_state.keys(),\n",
    "    \"STATE_NAME\": fips_to_state.values(),\n",
    " })\n",
    "\n",
    "state_code_to_fips_df = pd.DataFrame({\n",
    "    \"state_code\": state_code_to_fips.keys(),\n",
    "    \"fips\": state_code_to_fips.values()\n",
    "})"
   ]
  },
  {
   "attachments": {},
   "cell_type": "markdown",
   "metadata": {},
   "source": [
    "### Task 1\n",
    "Find the top n most common county names"
   ]
  },
  {
   "cell_type": "code",
   "execution_count": 151,
   "metadata": {},
   "outputs": [],
   "source": [
    "def get_most_common_county_names(n):\n",
    "    return county_data.groupby(\"NAME\").size().nlargest(n)"
   ]
  },
  {
   "cell_type": "code",
   "execution_count": 153,
   "metadata": {},
   "outputs": [
    {
     "name": "stdout",
     "output_type": "stream",
     "text": [
      "NAME\n",
      "Washington    31\n",
      "Franklin      26\n",
      "Jefferson     26\n",
      "Jackson       24\n",
      "Lincoln       24\n",
      "dtype: int64\n"
     ]
    }
   ],
   "source": [
    "print(get_most_common_county_names(5))"
   ]
  },
  {
   "attachments": {},
   "cell_type": "markdown",
   "metadata": {},
   "source": [
    "### Task 3\n",
    "Join fips code to get fill names of states using merge  \n",
    "(Doing before task two, in order to format task two with state names)"
   ]
  },
  {
   "cell_type": "code",
   "execution_count": 171,
   "metadata": {},
   "outputs": [
    {
     "data": {
      "text/html": [
       "<div>\n",
       "<style scoped>\n",
       "    .dataframe tbody tr th:only-of-type {\n",
       "        vertical-align: middle;\n",
       "    }\n",
       "\n",
       "    .dataframe tbody tr th {\n",
       "        vertical-align: top;\n",
       "    }\n",
       "\n",
       "    .dataframe thead th {\n",
       "        text-align: right;\n",
       "    }\n",
       "</style>\n",
       "<table border=\"1\" class=\"dataframe\">\n",
       "  <thead>\n",
       "    <tr style=\"text-align: right;\">\n",
       "      <th></th>\n",
       "      <th>GEO_ID</th>\n",
       "      <th>STATE</th>\n",
       "      <th>COUNTY</th>\n",
       "      <th>NAME</th>\n",
       "      <th>LSAD</th>\n",
       "      <th>CENSUSAREA</th>\n",
       "      <th>geometry</th>\n",
       "      <th>STATE_NAME</th>\n",
       "    </tr>\n",
       "  </thead>\n",
       "  <tbody>\n",
       "    <tr>\n",
       "      <th>0</th>\n",
       "      <td>0500000US01001</td>\n",
       "      <td>01</td>\n",
       "      <td>001</td>\n",
       "      <td>Autauga</td>\n",
       "      <td>County</td>\n",
       "      <td>594.436</td>\n",
       "      <td>POLYGON ((-86.49677 32.34444, -86.71790 32.402...</td>\n",
       "      <td>Alabama</td>\n",
       "    </tr>\n",
       "    <tr>\n",
       "      <th>1</th>\n",
       "      <td>0500000US01009</td>\n",
       "      <td>01</td>\n",
       "      <td>009</td>\n",
       "      <td>Blount</td>\n",
       "      <td>County</td>\n",
       "      <td>644.776</td>\n",
       "      <td>POLYGON ((-86.57780 33.76532, -86.75914 33.840...</td>\n",
       "      <td>Alabama</td>\n",
       "    </tr>\n",
       "    <tr>\n",
       "      <th>2</th>\n",
       "      <td>0500000US01017</td>\n",
       "      <td>01</td>\n",
       "      <td>017</td>\n",
       "      <td>Chambers</td>\n",
       "      <td>County</td>\n",
       "      <td>596.531</td>\n",
       "      <td>POLYGON ((-85.18413 32.87053, -85.12342 32.772...</td>\n",
       "      <td>Alabama</td>\n",
       "    </tr>\n",
       "    <tr>\n",
       "      <th>3</th>\n",
       "      <td>0500000US01021</td>\n",
       "      <td>01</td>\n",
       "      <td>021</td>\n",
       "      <td>Chilton</td>\n",
       "      <td>County</td>\n",
       "      <td>692.854</td>\n",
       "      <td>POLYGON ((-86.51734 33.02057, -86.51596 32.929...</td>\n",
       "      <td>Alabama</td>\n",
       "    </tr>\n",
       "    <tr>\n",
       "      <th>4</th>\n",
       "      <td>0500000US01033</td>\n",
       "      <td>01</td>\n",
       "      <td>033</td>\n",
       "      <td>Colbert</td>\n",
       "      <td>County</td>\n",
       "      <td>592.619</td>\n",
       "      <td>POLYGON ((-88.13999 34.58170, -88.13925 34.587...</td>\n",
       "      <td>Alabama</td>\n",
       "    </tr>\n",
       "  </tbody>\n",
       "</table>\n",
       "</div>"
      ],
      "text/plain": [
       "           GEO_ID STATE COUNTY      NAME    LSAD  CENSUSAREA  \\\n",
       "0  0500000US01001    01    001   Autauga  County     594.436   \n",
       "1  0500000US01009    01    009    Blount  County     644.776   \n",
       "2  0500000US01017    01    017  Chambers  County     596.531   \n",
       "3  0500000US01021    01    021   Chilton  County     692.854   \n",
       "4  0500000US01033    01    033   Colbert  County     592.619   \n",
       "\n",
       "                                            geometry STATE_NAME  \n",
       "0  POLYGON ((-86.49677 32.34444, -86.71790 32.402...    Alabama  \n",
       "1  POLYGON ((-86.57780 33.76532, -86.75914 33.840...    Alabama  \n",
       "2  POLYGON ((-85.18413 32.87053, -85.12342 32.772...    Alabama  \n",
       "3  POLYGON ((-86.51734 33.02057, -86.51596 32.929...    Alabama  \n",
       "4  POLYGON ((-88.13999 34.58170, -88.13925 34.587...    Alabama  "
      ]
     },
     "execution_count": 171,
     "metadata": {},
     "output_type": "execute_result"
    }
   ],
   "source": [
    "state_county_data = county_data.merge(fips_to_state_df)\n",
    "state_county_data.head()"
   ]
  },
  {
   "attachments": {},
   "cell_type": "markdown",
   "metadata": {},
   "source": [
    "### Task 2\n",
    "Summary statistics for states\n",
    "- number of counties\n",
    "- min and max area of counties within state"
   ]
  },
  {
   "cell_type": "code",
   "execution_count": 177,
   "metadata": {},
   "outputs": [],
   "source": [
    "state_groups = state_county_data.groupby(\"STATE_NAME\")"
   ]
  },
  {
   "attachments": {},
   "cell_type": "markdown",
   "metadata": {},
   "source": [
    "#### Task 2, Part A\n",
    "Number of counties (output limited to five largest counts)"
   ]
  },
  {
   "cell_type": "code",
   "execution_count": 206,
   "metadata": {},
   "outputs": [
    {
     "data": {
      "text/plain": [
       "STATE_NAME\n",
       "Texas       254\n",
       "Geogia      159\n",
       "Virginia    134\n",
       "Kentucky    120\n",
       "Missouri    115\n",
       "Name: NAME, dtype: int64"
      ]
     },
     "execution_count": 206,
     "metadata": {},
     "output_type": "execute_result"
    }
   ],
   "source": [
    "state_groups[\"NAME\"].size().nlargest(5)"
   ]
  },
  {
   "attachments": {},
   "cell_type": "markdown",
   "metadata": {},
   "source": [
    "#### Task 2, Part B\n",
    "Area of largest county (output limited to states with the top 5 largest counties)"
   ]
  },
  {
   "attachments": {},
   "cell_type": "markdown",
   "metadata": {},
   "source": [
    "Method 1:  \n",
    "Sort the data on census area as is, and then drop all states less than the max state\n",
    "(Advantage is that it provides all other fields)"
   ]
  },
  {
   "cell_type": "code",
   "execution_count": 191,
   "metadata": {},
   "outputs": [
    {
     "data": {
      "text/html": [
       "<div>\n",
       "<style scoped>\n",
       "    .dataframe tbody tr th:only-of-type {\n",
       "        vertical-align: middle;\n",
       "    }\n",
       "\n",
       "    .dataframe tbody tr th {\n",
       "        vertical-align: top;\n",
       "    }\n",
       "\n",
       "    .dataframe thead th {\n",
       "        text-align: right;\n",
       "    }\n",
       "</style>\n",
       "<table border=\"1\" class=\"dataframe\">\n",
       "  <thead>\n",
       "    <tr style=\"text-align: right;\">\n",
       "      <th></th>\n",
       "      <th>GEO_ID</th>\n",
       "      <th>STATE</th>\n",
       "      <th>COUNTY</th>\n",
       "      <th>NAME</th>\n",
       "      <th>LSAD</th>\n",
       "      <th>CENSUSAREA</th>\n",
       "      <th>geometry</th>\n",
       "      <th>STATE_NAME</th>\n",
       "    </tr>\n",
       "  </thead>\n",
       "  <tbody>\n",
       "    <tr>\n",
       "      <th>94</th>\n",
       "      <td>0500000US02290</td>\n",
       "      <td>02</td>\n",
       "      <td>290</td>\n",
       "      <td>Yukon-Koyukuk</td>\n",
       "      <td>CA</td>\n",
       "      <td>145504.789</td>\n",
       "      <td>POLYGON ((-153.00134 62.72744, -153.00126 62.2...</td>\n",
       "      <td>Alaska</td>\n",
       "    </tr>\n",
       "    <tr>\n",
       "      <th>220</th>\n",
       "      <td>0500000US06071</td>\n",
       "      <td>06</td>\n",
       "      <td>071</td>\n",
       "      <td>San Bernardino</td>\n",
       "      <td>County</td>\n",
       "      <td>20056.938</td>\n",
       "      <td>POLYGON ((-115.64803 35.80963, -115.64768 35.8...</td>\n",
       "      <td>California</td>\n",
       "    </tr>\n",
       "    <tr>\n",
       "      <th>529</th>\n",
       "      <td>0500000US04005</td>\n",
       "      <td>04</td>\n",
       "      <td>005</td>\n",
       "      <td>Coconino</td>\n",
       "      <td>County</td>\n",
       "      <td>18618.885</td>\n",
       "      <td>POLYGON ((-112.53859 37.00067, -112.53454 37.0...</td>\n",
       "      <td>Arizona</td>\n",
       "    </tr>\n",
       "    <tr>\n",
       "      <th>1750</th>\n",
       "      <td>0500000US32023</td>\n",
       "      <td>32</td>\n",
       "      <td>023</td>\n",
       "      <td>Nye</td>\n",
       "      <td>County</td>\n",
       "      <td>18181.924</td>\n",
       "      <td>POLYGON ((-115.84580 36.12024, -115.84608 35.9...</td>\n",
       "      <td>Nevada</td>\n",
       "    </tr>\n",
       "    <tr>\n",
       "      <th>3047</th>\n",
       "      <td>0500000US56037</td>\n",
       "      <td>56</td>\n",
       "      <td>037</td>\n",
       "      <td>Sweetwater</td>\n",
       "      <td>County</td>\n",
       "      <td>10426.649</td>\n",
       "      <td>POLYGON ((-110.04800 41.57802, -110.05371 42.2...</td>\n",
       "      <td>Wyoming</td>\n",
       "    </tr>\n",
       "  </tbody>\n",
       "</table>\n",
       "</div>"
      ],
      "text/plain": [
       "              GEO_ID STATE COUNTY            NAME    LSAD  CENSUSAREA  \\\n",
       "94    0500000US02290    02    290   Yukon-Koyukuk      CA  145504.789   \n",
       "220   0500000US06071    06    071  San Bernardino  County   20056.938   \n",
       "529   0500000US04005    04    005        Coconino  County   18618.885   \n",
       "1750  0500000US32023    32    023             Nye  County   18181.924   \n",
       "3047  0500000US56037    56    037      Sweetwater  County   10426.649   \n",
       "\n",
       "                                               geometry  STATE_NAME  \n",
       "94    POLYGON ((-153.00134 62.72744, -153.00126 62.2...      Alaska  \n",
       "220   POLYGON ((-115.64803 35.80963, -115.64768 35.8...  California  \n",
       "529   POLYGON ((-112.53859 37.00067, -112.53454 37.0...     Arizona  \n",
       "1750  POLYGON ((-115.84580 36.12024, -115.84608 35.9...      Nevada  \n",
       "3047  POLYGON ((-110.04800 41.57802, -110.05371 42.2...     Wyoming  "
      ]
     },
     "execution_count": 191,
     "metadata": {},
     "output_type": "execute_result"
    }
   ],
   "source": [
    "state_county_data.sort_values(\"CENSUSAREA\", ascending=False).drop_duplicates([\"STATE_NAME\"])[:5]"
   ]
  },
  {
   "attachments": {},
   "cell_type": "markdown",
   "metadata": {},
   "source": [
    "Method 2:  \n",
    "Group the states together and then find the max CENSUSAREA\n",
    "(Advantage is that it seems more 'pythonic')"
   ]
  },
  {
   "cell_type": "code",
   "execution_count": 196,
   "metadata": {},
   "outputs": [
    {
     "data": {
      "text/html": [
       "<div>\n",
       "<style scoped>\n",
       "    .dataframe tbody tr th:only-of-type {\n",
       "        vertical-align: middle;\n",
       "    }\n",
       "\n",
       "    .dataframe tbody tr th {\n",
       "        vertical-align: top;\n",
       "    }\n",
       "\n",
       "    .dataframe thead th {\n",
       "        text-align: right;\n",
       "    }\n",
       "</style>\n",
       "<table border=\"1\" class=\"dataframe\">\n",
       "  <thead>\n",
       "    <tr style=\"text-align: right;\">\n",
       "      <th></th>\n",
       "      <th>STATE_NAME</th>\n",
       "      <th>CENSUSAREA</th>\n",
       "    </tr>\n",
       "  </thead>\n",
       "  <tbody>\n",
       "    <tr>\n",
       "      <th>0</th>\n",
       "      <td>Alaska</td>\n",
       "      <td>145504.789</td>\n",
       "    </tr>\n",
       "    <tr>\n",
       "      <th>1</th>\n",
       "      <td>California</td>\n",
       "      <td>20056.938</td>\n",
       "    </tr>\n",
       "    <tr>\n",
       "      <th>2</th>\n",
       "      <td>Arizona</td>\n",
       "      <td>18618.885</td>\n",
       "    </tr>\n",
       "    <tr>\n",
       "      <th>3</th>\n",
       "      <td>Nevada</td>\n",
       "      <td>18181.924</td>\n",
       "    </tr>\n",
       "    <tr>\n",
       "      <th>4</th>\n",
       "      <td>Wyoming</td>\n",
       "      <td>10426.649</td>\n",
       "    </tr>\n",
       "  </tbody>\n",
       "</table>\n",
       "</div>"
      ],
      "text/plain": [
       "   STATE_NAME  CENSUSAREA\n",
       "0      Alaska  145504.789\n",
       "1  California   20056.938\n",
       "2     Arizona   18618.885\n",
       "3      Nevada   18181.924\n",
       "4     Wyoming   10426.649"
      ]
     },
     "execution_count": 196,
     "metadata": {},
     "output_type": "execute_result"
    }
   ],
   "source": [
    "state_groups[\"CENSUSAREA\"].max().nlargest(5).reset_index()"
   ]
  },
  {
   "attachments": {},
   "cell_type": "markdown",
   "metadata": {},
   "source": [
    "(Getting the index instead of the value could allow for looking of the full entry later)"
   ]
  },
  {
   "cell_type": "code",
   "execution_count": 200,
   "metadata": {},
   "outputs": [
    {
     "data": {
      "text/plain": [
       "STATE_NAME\n",
       "Alabama        39\n",
       "Alaska         94\n",
       "Arizona       529\n",
       "Arkansas      154\n",
       "California    220\n",
       "Name: CENSUSAREA, dtype: int64"
      ]
     },
     "execution_count": 200,
     "metadata": {},
     "output_type": "execute_result"
    }
   ],
   "source": [
    "state_groups[\"CENSUSAREA\"].idxmax().head()"
   ]
  },
  {
   "attachments": {},
   "cell_type": "markdown",
   "metadata": {},
   "source": [
    "#### Task 2, Part C\n",
    "Area of smallest county (output limited to 5 smallest)  \n",
    "Using Method 1, as it preserves the most data"
   ]
  },
  {
   "cell_type": "code",
   "execution_count": 205,
   "metadata": {},
   "outputs": [
    {
     "data": {
      "text/html": [
       "<div>\n",
       "<style scoped>\n",
       "    .dataframe tbody tr th:only-of-type {\n",
       "        vertical-align: middle;\n",
       "    }\n",
       "\n",
       "    .dataframe tbody tr th {\n",
       "        vertical-align: top;\n",
       "    }\n",
       "\n",
       "    .dataframe thead th {\n",
       "        text-align: right;\n",
       "    }\n",
       "</style>\n",
       "<table border=\"1\" class=\"dataframe\">\n",
       "  <thead>\n",
       "    <tr style=\"text-align: right;\">\n",
       "      <th></th>\n",
       "      <th>GEO_ID</th>\n",
       "      <th>STATE</th>\n",
       "      <th>COUNTY</th>\n",
       "      <th>NAME</th>\n",
       "      <th>LSAD</th>\n",
       "      <th>CENSUSAREA</th>\n",
       "      <th>geometry</th>\n",
       "      <th>STATE_NAME</th>\n",
       "    </tr>\n",
       "  </thead>\n",
       "  <tbody>\n",
       "    <tr>\n",
       "      <th>2879</th>\n",
       "      <td>0500000US51610</td>\n",
       "      <td>51</td>\n",
       "      <td>610</td>\n",
       "      <td>Falls Church</td>\n",
       "      <td>city</td>\n",
       "      <td>1.999</td>\n",
       "      <td>POLYGON ((-77.15029 38.87619, -77.15497 38.872...</td>\n",
       "      <td>Virginia</td>\n",
       "    </tr>\n",
       "    <tr>\n",
       "      <th>545</th>\n",
       "      <td>0500000US15005</td>\n",
       "      <td>15</td>\n",
       "      <td>005</td>\n",
       "      <td>Kalawao</td>\n",
       "      <td>County</td>\n",
       "      <td>11.991</td>\n",
       "      <td>POLYGON ((-157.01455 21.18550, -156.99911 21.1...</td>\n",
       "      <td>Hawaii</td>\n",
       "    </tr>\n",
       "    <tr>\n",
       "      <th>2184</th>\n",
       "      <td>0500000US36061</td>\n",
       "      <td>36</td>\n",
       "      <td>061</td>\n",
       "      <td>New York</td>\n",
       "      <td>County</td>\n",
       "      <td>22.829</td>\n",
       "      <td>MULTIPOLYGON (((-74.04086 40.70012, -74.04002 ...</td>\n",
       "      <td>New York</td>\n",
       "    </tr>\n",
       "    <tr>\n",
       "      <th>3138</th>\n",
       "      <td>0500000US44001</td>\n",
       "      <td>44</td>\n",
       "      <td>001</td>\n",
       "      <td>Bristol</td>\n",
       "      <td>County</td>\n",
       "      <td>24.164</td>\n",
       "      <td>POLYGON ((-71.22480 41.71050, -71.22787 41.705...</td>\n",
       "      <td>Rhode Island</td>\n",
       "    </tr>\n",
       "    <tr>\n",
       "      <th>231</th>\n",
       "      <td>0500000US08014</td>\n",
       "      <td>08</td>\n",
       "      <td>014</td>\n",
       "      <td>Broomfield</td>\n",
       "      <td>County</td>\n",
       "      <td>33.034</td>\n",
       "      <td>POLYGON ((-105.14734 39.91389, -105.14734 39.9...</td>\n",
       "      <td>Colorado</td>\n",
       "    </tr>\n",
       "  </tbody>\n",
       "</table>\n",
       "</div>"
      ],
      "text/plain": [
       "              GEO_ID STATE COUNTY          NAME    LSAD  CENSUSAREA  \\\n",
       "2879  0500000US51610    51    610  Falls Church    city       1.999   \n",
       "545   0500000US15005    15    005       Kalawao  County      11.991   \n",
       "2184  0500000US36061    36    061      New York  County      22.829   \n",
       "3138  0500000US44001    44    001       Bristol  County      24.164   \n",
       "231   0500000US08014    08    014    Broomfield  County      33.034   \n",
       "\n",
       "                                               geometry    STATE_NAME  \n",
       "2879  POLYGON ((-77.15029 38.87619, -77.15497 38.872...      Virginia  \n",
       "545   POLYGON ((-157.01455 21.18550, -156.99911 21.1...        Hawaii  \n",
       "2184  MULTIPOLYGON (((-74.04086 40.70012, -74.04002 ...      New York  \n",
       "3138  POLYGON ((-71.22480 41.71050, -71.22787 41.705...  Rhode Island  \n",
       "231   POLYGON ((-105.14734 39.91389, -105.14734 39.9...      Colorado  "
      ]
     },
     "execution_count": 205,
     "metadata": {},
     "output_type": "execute_result"
    }
   ],
   "source": [
    "state_county_data.sort_values(\"CENSUSAREA\").drop_duplicates([\"STATE_NAME\"])[:5]"
   ]
  },
  {
   "attachments": {},
   "cell_type": "markdown",
   "metadata": {},
   "source": [
    "### Task 4\n",
    "Map the top five counties with the most common names"
   ]
  },
  {
   "cell_type": "code",
   "execution_count": 237,
   "metadata": {},
   "outputs": [],
   "source": [
    "county_count_s = county_data.groupby(\"NAME\").size()"
   ]
  },
  {
   "cell_type": "code",
   "execution_count": 240,
   "metadata": {},
   "outputs": [
    {
     "data": {
      "text/plain": [
       "NAME\n",
       "Abbeville        1\n",
       "Acadia           1\n",
       "Accomack         1\n",
       "Ada              1\n",
       "Adair            4\n",
       "                ..\n",
       "Yukon-Koyukuk    1\n",
       "Yuma             2\n",
       "Zapata           1\n",
       "Zavala           1\n",
       "Ziebach          1\n",
       "Length: 1909, dtype: int64"
      ]
     },
     "execution_count": 240,
     "metadata": {},
     "output_type": "execute_result"
    }
   ],
   "source": [
    "county_count_s"
   ]
  },
  {
   "cell_type": "code",
   "execution_count": 243,
   "metadata": {},
   "outputs": [],
   "source": [
    "# pd.DataFrame(county_count_df, columns=[\"NAME\", \"COUNT\"])\n",
    "# type( county_count_df )\n",
    "df = county_data.merge(county_count_s.(), left_index=True, right_index=True)"
   ]
  },
  {
   "cell_type": "code",
   "execution_count": 258,
   "metadata": {},
   "outputs": [],
   "source": [
    "county_count_df = county_count_s.rename(\"COUNT\").reset_index()\n",
    "type(county_count_df)\n",
    "df = county_data.merge(county_count_df, how='left')"
   ]
  },
  {
   "cell_type": "code",
   "execution_count": 265,
   "metadata": {},
   "outputs": [
    {
     "data": {
      "text/html": [
       "<div>\n",
       "<style scoped>\n",
       "    .dataframe tbody tr th:only-of-type {\n",
       "        vertical-align: middle;\n",
       "    }\n",
       "\n",
       "    .dataframe tbody tr th {\n",
       "        vertical-align: top;\n",
       "    }\n",
       "\n",
       "    .dataframe thead th {\n",
       "        text-align: right;\n",
       "    }\n",
       "</style>\n",
       "<table border=\"1\" class=\"dataframe\">\n",
       "  <thead>\n",
       "    <tr style=\"text-align: right;\">\n",
       "      <th></th>\n",
       "      <th>GEO_ID</th>\n",
       "      <th>STATE</th>\n",
       "      <th>COUNTY</th>\n",
       "      <th>NAME</th>\n",
       "      <th>LSAD</th>\n",
       "      <th>CENSUSAREA</th>\n",
       "      <th>geometry</th>\n",
       "      <th>COUNT</th>\n",
       "    </tr>\n",
       "  </thead>\n",
       "  <tbody>\n",
       "    <tr>\n",
       "      <th>1880</th>\n",
       "      <td>0500000US37187</td>\n",
       "      <td>37</td>\n",
       "      <td>187</td>\n",
       "      <td>Washington</td>\n",
       "      <td>County</td>\n",
       "      <td>348.135</td>\n",
       "      <td>POLYGON ((-76.69238 35.94534, -76.69177 35.944...</td>\n",
       "      <td>31</td>\n",
       "    </tr>\n",
       "    <tr>\n",
       "      <th>108</th>\n",
       "      <td>0500000US17055</td>\n",
       "      <td>17</td>\n",
       "      <td>055</td>\n",
       "      <td>Franklin</td>\n",
       "      <td>County</td>\n",
       "      <td>408.889</td>\n",
       "      <td>POLYGON ((-89.15118 37.86200, -89.15083 37.950...</td>\n",
       "      <td>26</td>\n",
       "    </tr>\n",
       "    <tr>\n",
       "      <th>1558</th>\n",
       "      <td>0500000US39081</td>\n",
       "      <td>39</td>\n",
       "      <td>081</td>\n",
       "      <td>Jefferson</td>\n",
       "      <td>County</td>\n",
       "      <td>408.329</td>\n",
       "      <td>POLYGON ((-80.61735 40.39600, -80.61920 40.381...</td>\n",
       "      <td>26</td>\n",
       "    </tr>\n",
       "    <tr>\n",
       "      <th>960</th>\n",
       "      <td>0500000US22061</td>\n",
       "      <td>22</td>\n",
       "      <td>061</td>\n",
       "      <td>Lincoln</td>\n",
       "      <td>Parish</td>\n",
       "      <td>471.742</td>\n",
       "      <td>POLYGON ((-92.41507 32.58284, -92.41535 32.495...</td>\n",
       "      <td>24</td>\n",
       "    </tr>\n",
       "    <tr>\n",
       "      <th>1485</th>\n",
       "      <td>0500000US27063</td>\n",
       "      <td>27</td>\n",
       "      <td>063</td>\n",
       "      <td>Jackson</td>\n",
       "      <td>County</td>\n",
       "      <td>702.982</td>\n",
       "      <td>POLYGON ((-95.37527 43.50032, -95.38779 43.500...</td>\n",
       "      <td>24</td>\n",
       "    </tr>\n",
       "  </tbody>\n",
       "</table>\n",
       "</div>"
      ],
      "text/plain": [
       "              GEO_ID STATE COUNTY        NAME    LSAD  CENSUSAREA  \\\n",
       "1880  0500000US37187    37    187  Washington  County     348.135   \n",
       "108   0500000US17055    17    055    Franklin  County     408.889   \n",
       "1558  0500000US39081    39    081   Jefferson  County     408.329   \n",
       "960   0500000US22061    22    061     Lincoln  Parish     471.742   \n",
       "1485  0500000US27063    27    063     Jackson  County     702.982   \n",
       "\n",
       "                                               geometry  COUNT  \n",
       "1880  POLYGON ((-76.69238 35.94534, -76.69177 35.944...     31  \n",
       "108   POLYGON ((-89.15118 37.86200, -89.15083 37.950...     26  \n",
       "1558  POLYGON ((-80.61735 40.39600, -80.61920 40.381...     26  \n",
       "960   POLYGON ((-92.41507 32.58284, -92.41535 32.495...     24  \n",
       "1485  POLYGON ((-95.37527 43.50032, -95.38779 43.500...     24  "
      ]
     },
     "execution_count": 265,
     "metadata": {},
     "output_type": "execute_result"
    }
   ],
   "source": [
    "df.sort_values(\"COUNT\", ascending=False).drop_duplicates([\"NAME\"])[:5]"
   ]
  }
 ],
 "metadata": {
  "kernelspec": {
   "display_name": "venv",
   "language": "python",
   "name": "python3"
  },
  "language_info": {
   "codemirror_mode": {
    "name": "ipython",
    "version": 3
   },
   "file_extension": ".py",
   "mimetype": "text/x-python",
   "name": "python",
   "nbconvert_exporter": "python",
   "pygments_lexer": "ipython3",
   "version": "3.11.2"
  },
  "orig_nbformat": 4
 },
 "nbformat": 4,
 "nbformat_minor": 2
}
