{
 "cells": [
  {
   "attachments": {},
   "cell_type": "markdown",
   "metadata": {},
   "source": [
    "## Timothy Miller\n",
    "## GTECH 73100, Dr. Sun"
   ]
  },
  {
   "attachments": {},
   "cell_type": "markdown",
   "metadata": {},
   "source": [
    "# [Assignment Four](https://github.com/TangoYankee/gtech_731-geocomp-hw/tree/main/assignment-four)\n",
    "Classes and modules"
   ]
  },
  {
   "attachments": {},
   "cell_type": "markdown",
   "metadata": {},
   "source": [
    "## Tasks 1 and 2 combined\n",
    "Create a triangle class, test its functionality, and reorganize the Geometries into a package.\n",
    "\n",
    "If any tests fail, they will throw an exception. The lack of error messages indicates all code runs correctly."
   ]
  },
  {
   "cell_type": "code",
   "execution_count": 39,
   "metadata": {},
   "outputs": [],
   "source": [
    "from Geom import Circle, Square, Triangle\n",
    "from random import seed"
   ]
  },
  {
   "cell_type": "code",
   "execution_count": 49,
   "metadata": {},
   "outputs": [],
   "source": [
    "\"\"\"Use seed to make random functions always return predicted values\"\"\"\n",
    "seed(2)\n",
    "\n",
    "def test_square_area():\n",
    "    side = 8\n",
    "    test_sqr = Square(side)\n",
    "    expected_area = 64\n",
    "    assert(test_sqr.area() == expected_area)\n",
    "\n",
    "test_square_area()\n",
    "\n",
    "def test_square_string():\n",
    "    side = 2\n",
    "    test_sqr = Square(side)\n",
    "    expected_str = \"Name: Bill, Color: RED, Area: 4\"\n",
    "    assert(test_sqr.makeString() == expected_str)\n",
    "\n",
    "test_square_string()\n",
    "\n",
    "def test_create_circles():\n",
    "    circles = [Circle(i) for i in range(2,4)]\n",
    "    [one, two] = circles\n",
    "\n",
    "    exp_one_str = \"Name: Sally, Color: PURPLE, Area: 12.566370614359172\"\n",
    "    exp_two_str = \"Name: Hussain, Color: RED, Area: 28.274333882308138\"\n",
    "    assert(one.makeString() == exp_one_str)\n",
    "    assert(two.makeString() == exp_two_str)\n",
    "\n",
    "test_create_circles()\n",
    "\n",
    "def test_create_triangle():\n",
    "    triangle = Triangle(3,6)\n",
    "    exp_str = \"Name: Tamica, Color: PURPLE, Area: 9.0\"\n",
    "    assert(triangle.makeString() == exp_str)\n",
    "\n",
    "test_create_triangle()\n"
   ]
  },
  {
   "attachments": {},
   "cell_type": "markdown",
   "metadata": {},
   "source": [
    "## Addendum\n",
    "\"The evidence of my code working is that it doesn't output anything\" is pretty lame. So, here's some actual output."
   ]
  },
  {
   "cell_type": "code",
   "execution_count": 57,
   "metadata": {},
   "outputs": [
    {
     "name": "stdout",
     "output_type": "stream",
     "text": [
      "My name is  Josh and my color is  PURPLE\n",
      "My name is  Lammar and my color is  RED\n",
      "My name is  Lammar and my color is  RED\n"
     ]
    }
   ],
   "source": [
    "my_circle = Circle(4)\n",
    "my_circle.print_name()\n",
    "\n",
    "my_square = Square(5)\n",
    "my_square.print_name()\n",
    "\n",
    "my_triangle = Triangle(2,3)\n",
    "my_triangle.print_name()"
   ]
  },
  {
   "attachments": {},
   "cell_type": "markdown",
   "metadata": {},
   "source": [
    "Today's homework is brought to you by [\"My Triangle\"](https://www.youtube.com/watch?v=Z4cUQ1ItK-w) by James Blunt"
   ]
  }
 ],
 "metadata": {
  "kernelspec": {
   "display_name": "base",
   "language": "python",
   "name": "python3"
  },
  "language_info": {
   "codemirror_mode": {
    "name": "ipython",
    "version": 3
   },
   "file_extension": ".py",
   "mimetype": "text/x-python",
   "name": "python",
   "nbconvert_exporter": "python",
   "pygments_lexer": "ipython3",
   "version": "3.9.13"
  },
  "orig_nbformat": 4,
  "vscode": {
   "interpreter": {
    "hash": "59883301d6a121b46696a3a5d72639bd5c8b51cd9e1223e52d1e307982e014fc"
   }
  }
 },
 "nbformat": 4,
 "nbformat_minor": 2
}
