{
 "cells": [
  {
   "attachments": {},
   "cell_type": "markdown",
   "metadata": {},
   "source": [
    "## Timothy Miller\n",
    "## GTECH 73100, Dr. Sun"
   ]
  },
  {
   "attachments": {},
   "cell_type": "markdown",
   "metadata": {},
   "source": [
    "# [Assignment One](https://github.com/TangoYankee/gtech_731-geocomp-hw/tree/main/assignment-one)\n",
    "Basics"
   ]
  },
  {
   "attachments": {},
   "cell_type": "markdown",
   "metadata": {},
   "source": [
    "## Import modules\n",
    "Math and Numpy are used only to verify the custom implementations"
   ]
  },
  {
   "cell_type": "code",
   "execution_count": 6,
   "metadata": {},
   "outputs": [],
   "source": [
    "import math\n",
    "import platform\n",
    "import random\n",
    "import numpy as np"
   ]
  },
  {
   "attachments": {},
   "cell_type": "markdown",
   "metadata": {},
   "source": [
    "## Task 1\n",
    "Get the Python version on your computer"
   ]
  },
  {
   "cell_type": "code",
   "execution_count": 7,
   "metadata": {},
   "outputs": [
    {
     "name": "stdout",
     "output_type": "stream",
     "text": [
      "python version for platform 3.11.1\n"
     ]
    }
   ],
   "source": [
    "print(f\"python version for platform {platform.python_version()}\")"
   ]
  },
  {
   "attachments": {},
   "cell_type": "markdown",
   "metadata": {},
   "source": [
    "## Task 2, part one\n",
    "Generate a list of random numbers user `random` module in Python"
   ]
  },
  {
   "cell_type": "code",
   "execution_count": 8,
   "metadata": {},
   "outputs": [
    {
     "name": "stdout",
     "output_type": "stream",
     "text": [
      "random integers [25, 39, 26, 38, 47, 38, 10, 44, 48, 13, 33, 46, 46, 3, 32, 16, 49, 38, 27, 47]\n"
     ]
    }
   ],
   "source": [
    "rand_ints_count = 20\n",
    "rand_min = 1\n",
    "rand_max = 50\n",
    "rand_ints = [None] * rand_ints_count\n",
    "\n",
    "for i in range (rand_ints_count):\n",
    "    rand_ints[i] = random.randint(rand_min, rand_max)\n",
    "\n",
    "print(f\"random integers {rand_ints}\")"
   ]
  },
  {
   "attachments": {},
   "cell_type": "markdown",
   "metadata": {},
   "source": [
    "## Task 2, part two\n",
    "Calculate the mean value for the list by looping through its elements"
   ]
  },
  {
   "cell_type": "code",
   "execution_count": 11,
   "metadata": {},
   "outputs": [
    {
     "name": "stdout",
     "output_type": "stream",
     "text": [
      "mean value for the randomt integers 33.25\n"
     ]
    }
   ],
   "source": [
    "rand_ints_total = 0\n",
    "for rand_int in rand_ints:\n",
    "    rand_ints_total += rand_int\n",
    "\n",
    "rand_ints_avg = rand_ints_total / rand_ints_count\n",
    "print(f\"mean value for the randomt integers {rand_ints_avg}\")\n",
    "\n",
    "\n",
    "\"\"\"Check the custom mean implementation against the numpy implementation\n",
    "\"\"\"\n",
    "assert rand_ints_avg == np.average(rand_ints)"
   ]
  },
  {
   "attachments": {},
   "cell_type": "markdown",
   "metadata": {},
   "source": [
    "## Task 2, part three\n",
    "Calculate the variance of the list"
   ]
  },
  {
   "cell_type": "code",
   "execution_count": 12,
   "metadata": {},
   "outputs": [
    {
     "name": "stdout",
     "output_type": "stream",
     "text": [
      "variance of random integers 185.4875\n"
     ]
    }
   ],
   "source": [
    "rand_ints_sqrd_difs = 0\n",
    "for rand_int in rand_ints:\n",
    "  rand_ints_sqrd_difs += pow(rand_int - rand_ints_avg, 2)  \n",
    "\n",
    "rand_ints_var = rand_ints_sqrd_difs / rand_ints_count\n",
    "print(f\"variance of random integers {rand_ints_var}\")\n",
    "\n",
    "\"\"\"Check the custom implementation against the numpy implementation\n",
    "\n",
    "Only take the integer to account for rounding errors\n",
    "\"\"\"\n",
    "assert math.trunc(rand_ints_var) == math.trunc(np.var(rand_ints))"
   ]
  }
 ],
 "metadata": {
  "kernelspec": {
   "display_name": "Python 3",
   "language": "python",
   "name": "python3"
  },
  "language_info": {
   "codemirror_mode": {
    "name": "ipython",
    "version": 3
   },
   "file_extension": ".py",
   "mimetype": "text/x-python",
   "name": "python",
   "nbconvert_exporter": "python",
   "pygments_lexer": "ipython3",
   "version": "3.11.1"
  },
  "orig_nbformat": 4,
  "vscode": {
   "interpreter": {
    "hash": "e7370f93d1d0cde622a1f8e1c04877d8463912d04d973331ad4851f04de6915a"
   }
  }
 },
 "nbformat": 4,
 "nbformat_minor": 2
}
